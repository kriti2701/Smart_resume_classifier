{
 "cells": [
  {
   "cell_type": "code",
   "execution_count": 2,
   "id": "1d995f78",
   "metadata": {},
   "outputs": [],
   "source": [
    "import numpy as np\n",
    "import pandas as pd"
   ]
  },
  {
   "cell_type": "code",
   "execution_count": 3,
   "id": "a7d0dc74",
   "metadata": {},
   "outputs": [],
   "source": [
    "df =pd.read_csv(\"gpt_dataset.csv\")"
   ]
  },
  {
   "cell_type": "code",
   "execution_count": 4,
   "id": "d3f7cb4f",
   "metadata": {},
   "outputs": [],
   "source": [
    "df = df.drop_duplicates()"
   ]
  },
  {
   "cell_type": "code",
   "execution_count": 5,
   "id": "ef9baac7",
   "metadata": {},
   "outputs": [
    {
     "data": {
      "text/plain": [
       "Full Stack Developer                  30\n",
       "Data Scientist                        29\n",
       "Frontend Developer                    24\n",
       "Mobile App Developer (iOS/Android)    23\n",
       "Cloud Engineer                        23\n",
       "Python Developer                      22\n",
       "Backend Developer                     19\n",
       "Machine Learning Engineer             18\n",
       "Name: Category, dtype: int64"
      ]
     },
     "execution_count": 5,
     "metadata": {},
     "output_type": "execute_result"
    }
   ],
   "source": [
    "df[\"Category\"].value_counts()"
   ]
  },
  {
   "cell_type": "code",
   "execution_count": 6,
   "id": "9400dc32",
   "metadata": {},
   "outputs": [
    {
     "data": {
      "text/plain": [
       "Category    0\n",
       "Resume      0\n",
       "dtype: int64"
      ]
     },
     "execution_count": 6,
     "metadata": {},
     "output_type": "execute_result"
    }
   ],
   "source": [
    "df.isnull().sum()"
   ]
  },
  {
   "cell_type": "code",
   "execution_count": 7,
   "id": "c977e72f",
   "metadata": {},
   "outputs": [],
   "source": [
    "df['Resume']=df['Resume'].apply(lambda x:x.lower()) # convert data into lowercase \n"
   ]
  },
  {
   "cell_type": "code",
   "execution_count": 8,
   "id": "96482f1d",
   "metadata": {},
   "outputs": [],
   "source": [
    "# removing stopwords\n",
    "import nltk\n",
    "from nltk.corpus import stopwords\n",
    "sw_list=stopwords.words('english')"
   ]
  },
  {
   "cell_type": "code",
   "execution_count": 9,
   "id": "a23d5001",
   "metadata": {},
   "outputs": [],
   "source": [
    "df['Resume']=df['Resume'].apply(lambda x:[item for item in x.split() if item not in sw_list]).apply(lambda x:\" \".join(x))"
   ]
  },
  {
   "cell_type": "code",
   "execution_count": 10,
   "id": "860241d6",
   "metadata": {},
   "outputs": [
    {
     "data": {
      "text/html": [
       "<div>\n",
       "<style scoped>\n",
       "    .dataframe tbody tr th:only-of-type {\n",
       "        vertical-align: middle;\n",
       "    }\n",
       "\n",
       "    .dataframe tbody tr th {\n",
       "        vertical-align: top;\n",
       "    }\n",
       "\n",
       "    .dataframe thead th {\n",
       "        text-align: right;\n",
       "    }\n",
       "</style>\n",
       "<table border=\"1\" class=\"dataframe\">\n",
       "  <thead>\n",
       "    <tr style=\"text-align: right;\">\n",
       "      <th></th>\n",
       "      <th>Category</th>\n",
       "      <th>Resume</th>\n",
       "    </tr>\n",
       "  </thead>\n",
       "  <tbody>\n",
       "    <tr>\n",
       "      <th>0</th>\n",
       "      <td>Frontend Developer</td>\n",
       "      <td>seasoned frontend developer, proven track reco...</td>\n",
       "    </tr>\n",
       "    <tr>\n",
       "      <th>1</th>\n",
       "      <td>Backend Developer</td>\n",
       "      <td>solid background backend development, bring 7 ...</td>\n",
       "    </tr>\n",
       "    <tr>\n",
       "      <th>2</th>\n",
       "      <td>Python Developer</td>\n",
       "      <td>python developer, leverage expertise python pr...</td>\n",
       "    </tr>\n",
       "    <tr>\n",
       "      <th>3</th>\n",
       "      <td>Data Scientist</td>\n",
       "      <td>background data science, possess unique blend ...</td>\n",
       "    </tr>\n",
       "    <tr>\n",
       "      <th>4</th>\n",
       "      <td>Frontend Developer</td>\n",
       "      <td>experienced frontend developer passion craftin...</td>\n",
       "    </tr>\n",
       "    <tr>\n",
       "      <th>...</th>\n",
       "      <td>...</td>\n",
       "      <td>...</td>\n",
       "    </tr>\n",
       "    <tr>\n",
       "      <th>388</th>\n",
       "      <td>Cloud Engineer</td>\n",
       "      <td>skilled cloud engineer focus building secure s...</td>\n",
       "    </tr>\n",
       "    <tr>\n",
       "      <th>389</th>\n",
       "      <td>Cloud Engineer</td>\n",
       "      <td>experienced cloud engineer focus designing imp...</td>\n",
       "    </tr>\n",
       "    <tr>\n",
       "      <th>397</th>\n",
       "      <td>Full Stack Developer</td>\n",
       "      <td>experienced full stack developer expertise dev...</td>\n",
       "    </tr>\n",
       "    <tr>\n",
       "      <th>398</th>\n",
       "      <td>Full Stack Developer</td>\n",
       "      <td>innovative full stack developer passion buildi...</td>\n",
       "    </tr>\n",
       "    <tr>\n",
       "      <th>399</th>\n",
       "      <td>Full Stack Developer</td>\n",
       "      <td>dynamic full stack developer specializing buil...</td>\n",
       "    </tr>\n",
       "  </tbody>\n",
       "</table>\n",
       "<p>188 rows × 2 columns</p>\n",
       "</div>"
      ],
      "text/plain": [
       "                 Category                                             Resume\n",
       "0      Frontend Developer  seasoned frontend developer, proven track reco...\n",
       "1       Backend Developer  solid background backend development, bring 7 ...\n",
       "2        Python Developer  python developer, leverage expertise python pr...\n",
       "3          Data Scientist  background data science, possess unique blend ...\n",
       "4      Frontend Developer  experienced frontend developer passion craftin...\n",
       "..                    ...                                                ...\n",
       "388        Cloud Engineer  skilled cloud engineer focus building secure s...\n",
       "389        Cloud Engineer  experienced cloud engineer focus designing imp...\n",
       "397  Full Stack Developer  experienced full stack developer expertise dev...\n",
       "398  Full Stack Developer  innovative full stack developer passion buildi...\n",
       "399  Full Stack Developer  dynamic full stack developer specializing buil...\n",
       "\n",
       "[188 rows x 2 columns]"
      ]
     },
     "execution_count": 10,
     "metadata": {},
     "output_type": "execute_result"
    }
   ],
   "source": [
    "df"
   ]
  },
  {
   "cell_type": "code",
   "execution_count": 11,
   "id": "86c34a7f",
   "metadata": {},
   "outputs": [],
   "source": [
    "#removing numbers from data\n",
    "\n",
    "df['Resume']=df['Resume'].apply(lambda x:' '.join([i for i in x.split() if not i.isdigit()]))"
   ]
  },
  {
   "cell_type": "code",
   "execution_count": 12,
   "id": "ecf46a32",
   "metadata": {},
   "outputs": [],
   "source": [
    "#remove punctuation from data\n",
    "import string\n",
    "PUNCT_TO_REMOVE = string.punctuation\n",
    "def remove_punctuation(text):\n",
    "    return text.translate(str.maketrans('', '', PUNCT_TO_REMOVE))"
   ]
  },
  {
   "cell_type": "code",
   "execution_count": 13,
   "id": "978796ba",
   "metadata": {},
   "outputs": [],
   "source": [
    "df['Resume']=df['Resume'].apply(remove_punctuation)\n"
   ]
  },
  {
   "cell_type": "code",
   "execution_count": 14,
   "id": "44269377",
   "metadata": {},
   "outputs": [],
   "source": [
    "#separating test data\n",
    "\n",
    "sample_test = df.sample(10)\n",
    "\n",
    "df = df[~df['Resume'].isin(sample_test['Resume'])]"
   ]
  },
  {
   "cell_type": "markdown",
   "id": "d482d5f3",
   "metadata": {},
   "source": [
    "# Applying ML"
   ]
  },
  {
   "cell_type": "code",
   "execution_count": 15,
   "id": "1bace640",
   "metadata": {},
   "outputs": [],
   "source": [
    "x=df.drop(columns='Category')\n",
    "y=df['Category']\n"
   ]
  },
  {
   "cell_type": "code",
   "execution_count": 16,
   "id": "197a4ebf",
   "metadata": {},
   "outputs": [
    {
     "data": {
      "text/plain": [
       "array([3, 0, 7, 2, 3, 3, 0, 0, 7, 7, 3, 0, 7, 2, 0, 7, 3, 0, 7, 2, 2, 4,\n",
       "       4, 6, 6, 6, 6, 6, 6, 6, 6, 5, 5, 5, 5, 5, 5, 5, 5, 5, 5, 1, 1, 1,\n",
       "       1, 1, 1, 3, 3, 3, 3, 3, 3, 3, 3, 3, 0, 0, 0, 0, 0, 4, 4, 4, 4, 4,\n",
       "       7, 7, 7, 7, 2, 2, 2, 2, 4, 4, 4, 4, 4, 4, 4, 6, 6, 6, 6, 5, 5, 5,\n",
       "       5, 1, 1, 1, 1, 3, 3, 3, 3, 0, 0, 0, 0, 5, 5, 5, 5, 1, 1, 1, 1, 2,\n",
       "       2, 2, 0, 0, 0, 0, 3, 3, 3, 3, 4, 4, 4, 4, 4, 4, 4, 4, 4, 4, 4, 4,\n",
       "       6, 6, 6, 6, 6, 6, 6, 6, 6, 6, 7, 7, 7, 7, 7, 7, 7, 7, 7, 7, 7, 2,\n",
       "       2, 2, 2, 2, 2, 2, 2, 2, 2, 2, 2, 1, 1, 1, 1, 1, 1, 1, 1, 1, 4, 4,\n",
       "       4])"
      ]
     },
     "execution_count": 16,
     "metadata": {},
     "output_type": "execute_result"
    }
   ],
   "source": [
    "#converting categorical into numerical\n",
    "from sklearn.preprocessing import LabelEncoder\n",
    "y=LabelEncoder().fit_transform(y)\n",
    "y\n"
   ]
  },
  {
   "cell_type": "code",
   "execution_count": 17,
   "id": "64969575",
   "metadata": {},
   "outputs": [],
   "source": [
    "df2=pd.DataFrame(y)\n",
    "z1=df['Category'].unique()\n",
    "z2=df2[0].unique()\n"
   ]
  },
  {
   "cell_type": "code",
   "execution_count": 18,
   "id": "6b85130e",
   "metadata": {},
   "outputs": [],
   "source": [
    "dict={}\n",
    "for i in range(len(z2)):\n",
    "    dict[z2[i]]=z1[i]"
   ]
  },
  {
   "cell_type": "code",
   "execution_count": 19,
   "id": "452e8e55",
   "metadata": {},
   "outputs": [
    {
     "data": {
      "text/plain": [
       "{3: 'Frontend Developer',\n",
       " 0: 'Backend Developer',\n",
       " 7: 'Python Developer',\n",
       " 2: 'Data Scientist',\n",
       " 4: 'Full Stack Developer',\n",
       " 6: 'Mobile App Developer (iOS/Android)',\n",
       " 5: 'Machine Learning Engineer',\n",
       " 1: 'Cloud Engineer'}"
      ]
     },
     "execution_count": 19,
     "metadata": {},
     "output_type": "execute_result"
    }
   ],
   "source": [
    "dict"
   ]
  },
  {
   "cell_type": "code",
   "execution_count": 20,
   "id": "08a84ff7",
   "metadata": {},
   "outputs": [
    {
     "name": "stdout",
     "output_type": "stream",
     "text": [
      "(141, 1) (36, 1)\n"
     ]
    }
   ],
   "source": [
    "# train test split\n",
    "\n",
    "from sklearn.model_selection import train_test_split\n",
    "x_train,x_test,y_train,y_test=train_test_split(x,y,test_size=0.2,random_state=3,stratify=y)\n",
    "print(x_train.shape,x_test.shape)\n"
   ]
  },
  {
   "cell_type": "code",
   "execution_count": 21,
   "id": "ec31f9c0",
   "metadata": {},
   "outputs": [],
   "source": [
    "from sklearn.feature_extraction.text import TfidfVectorizer\n",
    "tfidf=TfidfVectorizer()\n",
    "x_train=tfidf.fit_transform(x_train['Resume']).toarray()\n",
    "x_test=tfidf.transform(x_test['Resume'])"
   ]
  },
  {
   "cell_type": "code",
   "execution_count": 22,
   "id": "31d9c7c2",
   "metadata": {},
   "outputs": [
    {
     "data": {
      "text/plain": [
       "0.9722222222222222"
      ]
     },
     "execution_count": 22,
     "metadata": {},
     "output_type": "execute_result"
    }
   ],
   "source": [
    "# applying random forest algorithm \n",
    "from sklearn.ensemble import RandomForestClassifier\n",
    "from sklearn.metrics import accuracy_score,confusion_matrix\n",
    "rf=RandomForestClassifier()\n",
    "rf.fit(x_train,y_train)\n",
    "y_pred=rf.predict(x_test)\n",
    "accuracy_score(y_test,y_pred)"
   ]
  },
  {
   "cell_type": "code",
   "execution_count": 23,
   "id": "e1ee833b",
   "metadata": {},
   "outputs": [
    {
     "data": {
      "image/png": "[encoded data removed]",
      "text/plain": [
       "<Figure size 576x432 with 2 Axes>"
      ]
     },
     "metadata": {
      "needs_background": "light"
     },
     "output_type": "display_data"
    }
   ],
   "source": [
    "import matplotlib.pyplot as plt\n",
    "import seaborn as sns\n",
    "from sklearn.metrics import confusion_matrix\n",
    "conf_matrix = confusion_matrix(y_test, y_pred)\n",
    "\n",
    "# Plot confusion matrix\n",
    "plt.figure(figsize=(8, 6))\n",
    "sns.heatmap(conf_matrix, annot=True, fmt=\"d\", cmap=\"Blues\")\n",
    "plt.xlabel(\"Predicted Labels\")\n",
    "plt.ylabel(\"True Labels\")\n",
    "plt.title(\"Confusion Matrix\")\n",
    "plt.show()"
   ]
  },
  {
   "cell_type": "code",
   "execution_count": 24,
   "id": "a38ecc8d",
   "metadata": {},
   "outputs": [
    {
     "data": {
      "text/plain": [
       "array([2, 3, 7, 6, 2, 2, 3, 2, 2, 4])"
      ]
     },
     "execution_count": 24,
     "metadata": {},
     "output_type": "execute_result"
    }
   ],
   "source": [
    "rf.predict(tfidf.transform(sample_test['Resume']))"
   ]
  },
  {
   "cell_type": "code",
   "execution_count": 25,
   "id": "a93b9c4b",
   "metadata": {},
   "outputs": [],
   "source": [
    "sample_test.to_csv(\"sample_test_resume.csv\",index=False)"
   ]
  },
  {
   "cell_type": "code",
   "execution_count": null,
   "id": "ad56d589",
   "metadata": {},
   "outputs": [],
   "source": []
  },
  {
   "cell_type": "code",
   "execution_count": 28,
   "id": "a3182f91",
   "metadata": {},
   "outputs": [
    {
     "data": {
      "text/plain": [
       "['tfidf.joblib']"
      ]
     },
     "execution_count": 28,
     "metadata": {},
     "output_type": "execute_result"
    }
   ],
   "source": [
    "import joblib\n",
    "\n",
    "# Assuming `classifier` is your trained Random Forest classifier\n",
    "joblib.dump(rf, 'resumeclassifier.joblib')\n",
    "joblib.dump(tfidf, 'tfidf.joblib')"
   ]
  },
  {
   "cell_type": "code",
   "execution_count": null,
   "id": "b886bf3d",
   "metadata": {},
   "outputs": [],
   "source": []
  }
 ],
 "metadata": {
  "kernelspec": {
   "display_name": "Python 3 (ipykernel)",
   "language": "python",
   "name": "python3"
  },
  "language_info": {
   "codemirror_mode": {
    "name": "ipython",
    "version": 3
   },
   "file_extension": ".py",
   "mimetype": "text/x-python",
   "name": "python",
   "nbconvert_exporter": "python",
   "pygments_lexer": "ipython3",
   "version": "3.9.7"
  }
 },
 "nbformat": 4,
 "nbformat_minor": 5
}
